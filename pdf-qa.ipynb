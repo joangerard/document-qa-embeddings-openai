{
 "cells": [
  {
   "cell_type": "code",
   "execution_count": 9,
   "metadata": {},
   "outputs": [],
   "source": [
    "# importing required classes \n",
    "from pypdf import PdfReader\n",
    "import os\n"
   ]
  },
  {
   "cell_type": "code",
   "execution_count": 10,
   "metadata": {},
   "outputs": [],
   "source": [
    "pdf_name = 'pdf1.pdf'\n",
    "reader = PdfReader(f'docs/{pdf_name}')"
   ]
  },
  {
   "cell_type": "code",
   "execution_count": 12,
   "metadata": {},
   "outputs": [],
   "source": [
    "text_files_dir = f\"text/{pdf_name}\"\n",
    "if not os.path.isdir(text_files_dir):\n",
    "    os.makedirs(text_files_dir)"
   ]
  },
  {
   "cell_type": "code",
   "execution_count": 16,
   "metadata": {},
   "outputs": [
    {
     "name": "stdout",
     "output_type": "stream",
     "text": [
      "Processing page nbr 0\n",
      "Processing page nbr 1\n",
      "Processing page nbr 2\n",
      "Processing page nbr 3\n",
      "Processing page nbr 4\n",
      "Processing page nbr 5\n",
      "Processing page nbr 6\n",
      "Processing page nbr 7\n",
      "Processing page nbr 8\n",
      "Processing page nbr 9\n",
      "Processing page nbr 10\n",
      "Processing page nbr 11\n",
      "Processing page nbr 12\n",
      "Processing page nbr 13\n",
      "Processing page nbr 14\n",
      "Processing page nbr 15\n",
      "Processing page nbr 16\n",
      "Processing page nbr 17\n",
      "Processing page nbr 18\n",
      "Processing page nbr 19\n",
      "Processing page nbr 20\n",
      "Processing page nbr 21\n",
      "Processing page nbr 22\n",
      "Processing page nbr 23\n",
      "Processing page nbr 24\n",
      "Processing page nbr 25\n",
      "Processing page nbr 26\n",
      "Processing page nbr 27\n",
      "Processing page nbr 28\n",
      "Processing page nbr 29\n",
      "Processing page nbr 30\n",
      "Processing page nbr 31\n",
      "Processing page nbr 32\n",
      "Processing page nbr 33\n",
      "Processing page nbr 34\n",
      "Processing page nbr 35\n",
      "Processing page nbr 36\n",
      "Processing page nbr 37\n",
      "Processing page nbr 38\n",
      "Processing page nbr 39\n",
      "Processing page nbr 40\n",
      "Processing page nbr 41\n",
      "Processing page nbr 42\n",
      "Processing page nbr 43\n",
      "Processing page nbr 44\n"
     ]
    }
   ],
   "source": [
    "for i in range(len(reader.pages)):\n",
    "    print(f'Processing page nbr {i}')\n",
    "    text = reader.pages[i].extract_text()\n",
    "    text_file_name = f\"{text_files_dir}/page_{i}.txt\"\n",
    "    with open(text_file_name, \"x\") as text_file:\n",
    "        text_file.write(text)"
   ]
  },
  {
   "cell_type": "code",
   "execution_count": 14,
   "metadata": {},
   "outputs": [],
   "source": [
    "def remove_newlines(serie):\n",
    "    serie = serie.str.replace('\\n', ' ')\n",
    "    serie = serie.str.replace('\\\\n', ' ')\n",
    "    serie = serie.str.replace('  ', ' ')\n",
    "    serie = serie.str.replace('  ', ' ')\n",
    "    return serie"
   ]
  },
  {
   "cell_type": "code",
   "execution_count": 15,
   "metadata": {},
   "outputs": [
    {
     "data": {
      "text/html": [
       "<div>\n",
       "<style scoped>\n",
       "    .dataframe tbody tr th:only-of-type {\n",
       "        vertical-align: middle;\n",
       "    }\n",
       "\n",
       "    .dataframe tbody tr th {\n",
       "        vertical-align: top;\n",
       "    }\n",
       "\n",
       "    .dataframe thead th {\n",
       "        text-align: right;\n",
       "    }\n",
       "</style>\n",
       "<table border=\"1\" class=\"dataframe\">\n",
       "  <thead>\n",
       "    <tr style=\"text-align: right;\">\n",
       "      <th></th>\n",
       "      <th>fname</th>\n",
       "      <th>text</th>\n",
       "    </tr>\n",
       "  </thead>\n",
       "  <tbody>\n",
       "    <tr>\n",
       "      <th>0</th>\n",
       "      <td>page_24.txt</td>\n",
       "      <td>page_24.txt. Póliza de Seguro de Automotores L...</td>\n",
       "    </tr>\n",
       "    <tr>\n",
       "      <th>1</th>\n",
       "      <td>page_30.txt</td>\n",
       "      <td>page_30.txt. Póliza de Seguro de Automotores L...</td>\n",
       "    </tr>\n",
       "    <tr>\n",
       "      <th>2</th>\n",
       "      <td>page_18.txt</td>\n",
       "      <td>page_18.txt. Póliza de Seguro de Automotores L...</td>\n",
       "    </tr>\n",
       "    <tr>\n",
       "      <th>3</th>\n",
       "      <td>page_19.txt</td>\n",
       "      <td>page_19.txt. Póliza de Seguro de Automotores L...</td>\n",
       "    </tr>\n",
       "    <tr>\n",
       "      <th>4</th>\n",
       "      <td>page_31.txt</td>\n",
       "      <td>page_31.txt. Póliza de Seguro de Automotores L...</td>\n",
       "    </tr>\n",
       "  </tbody>\n",
       "</table>\n",
       "</div>"
      ],
      "text/plain": [
       "         fname                                               text\n",
       "0  page_24.txt  page_24.txt. Póliza de Seguro de Automotores L...\n",
       "1  page_30.txt  page_30.txt. Póliza de Seguro de Automotores L...\n",
       "2  page_18.txt  page_18.txt. Póliza de Seguro de Automotores L...\n",
       "3  page_19.txt  page_19.txt. Póliza de Seguro de Automotores L...\n",
       "4  page_31.txt  page_31.txt. Póliza de Seguro de Automotores L..."
      ]
     },
     "execution_count": 15,
     "metadata": {},
     "output_type": "execute_result"
    }
   ],
   "source": [
    "import pandas as pd\n",
    "\n",
    "# Create a list to store the text files\n",
    "texts=[]\n",
    "\n",
    "# Get all the text files in the text directory\n",
    "for file in os.listdir(f\"{text_files_dir}/\"):\n",
    "\n",
    "    # Open the file and read the text\n",
    "    with open(f\"{text_files_dir}/{file}\", \"r\") as f:\n",
    "        text = f.read()\n",
    "\n",
    "        # Omit the first 11 lines and the last 4 lines, then replace -, _, and #update with spaces.\n",
    "        texts.append((file, text))\n",
    "\n",
    "# Create a dataframe from the list of texts\n",
    "df = pd.DataFrame(texts, columns = ['fname', 'text'])\n",
    "\n",
    "# Set the text column to be the raw text with the newlines removed\n",
    "df['text'] = df.fname + \". \" + remove_newlines(df.text)\n",
    "df.to_csv('processed/scraped.csv')\n",
    "df.head()"
   ]
  },
  {
   "cell_type": "code",
   "execution_count": 16,
   "metadata": {},
   "outputs": [
    {
     "data": {
      "text/plain": [
       "<Axes: >"
      ]
     },
     "execution_count": 16,
     "metadata": {},
     "output_type": "execute_result"
    },
    {
     "data": {
      "image/png": "[encoded data removed]",
      "text/plain": [
       "<Figure size 640x480 with 1 Axes>"
      ]
     },
     "metadata": {},
     "output_type": "display_data"
    }
   ],
   "source": [
    "import tiktoken\n",
    "import pandas as pd\n",
    "\n",
    "# Load the cl100k_base tokenizer which is designed to work with the ada-002 model\n",
    "tokenizer = tiktoken.get_encoding(\"cl100k_base\")\n",
    "\n",
    "df = pd.read_csv('processed/scraped.csv', index_col=0)\n",
    "df.columns = ['title', 'text']\n",
    "\n",
    "# Tokenize the text and save the number of tokens to a new column\n",
    "df['n_tokens'] = df.text.apply(lambda x: len(tokenizer.encode(x)))\n",
    "\n",
    "# Visualize the distribution of the number of tokens per row using a histogram\n",
    "df.n_tokens.hist()"
   ]
  },
  {
   "cell_type": "code",
   "execution_count": 17,
   "metadata": {},
   "outputs": [
    {
     "data": {
      "text/html": [
       "<div>\n",
       "<style scoped>\n",
       "    .dataframe tbody tr th:only-of-type {\n",
       "        vertical-align: middle;\n",
       "    }\n",
       "\n",
       "    .dataframe tbody tr th {\n",
       "        vertical-align: top;\n",
       "    }\n",
       "\n",
       "    .dataframe thead th {\n",
       "        text-align: right;\n",
       "    }\n",
       "</style>\n",
       "<table border=\"1\" class=\"dataframe\">\n",
       "  <thead>\n",
       "    <tr style=\"text-align: right;\">\n",
       "      <th></th>\n",
       "      <th>title</th>\n",
       "      <th>text</th>\n",
       "      <th>n_tokens</th>\n",
       "      <th>embeddings</th>\n",
       "    </tr>\n",
       "  </thead>\n",
       "  <tbody>\n",
       "    <tr>\n",
       "      <th>0</th>\n",
       "      <td>page_24.txt</td>\n",
       "      <td>page_24.txt. Póliza de Seguro de Automotores L...</td>\n",
       "      <td>919</td>\n",
       "      <td>[-0.018300291150808334, -0.0001406756200594827...</td>\n",
       "    </tr>\n",
       "    <tr>\n",
       "      <th>1</th>\n",
       "      <td>page_30.txt</td>\n",
       "      <td>page_30.txt. Póliza de Seguro de Automotores L...</td>\n",
       "      <td>681</td>\n",
       "      <td>[0.002368899527937174, 0.0074475351721048355, ...</td>\n",
       "    </tr>\n",
       "    <tr>\n",
       "      <th>2</th>\n",
       "      <td>page_18.txt</td>\n",
       "      <td>page_18.txt. Póliza de Seguro de Automotores L...</td>\n",
       "      <td>610</td>\n",
       "      <td>[-0.01696052774786949, 0.014104444533586502, 0...</td>\n",
       "    </tr>\n",
       "    <tr>\n",
       "      <th>3</th>\n",
       "      <td>page_19.txt</td>\n",
       "      <td>page_19.txt. Póliza de Seguro de Automotores L...</td>\n",
       "      <td>809</td>\n",
       "      <td>[-0.00761449197307229, 0.007823941297829151, 0...</td>\n",
       "    </tr>\n",
       "    <tr>\n",
       "      <th>4</th>\n",
       "      <td>page_31.txt</td>\n",
       "      <td>page_31.txt. Póliza de Seguro de Automotores L...</td>\n",
       "      <td>727</td>\n",
       "      <td>[-0.010724230669438839, 0.008463261649012566, ...</td>\n",
       "    </tr>\n",
       "  </tbody>\n",
       "</table>\n",
       "</div>"
      ],
      "text/plain": [
       "         title                                               text  n_tokens  \\\n",
       "0  page_24.txt  page_24.txt. Póliza de Seguro de Automotores L...       919   \n",
       "1  page_30.txt  page_30.txt. Póliza de Seguro de Automotores L...       681   \n",
       "2  page_18.txt  page_18.txt. Póliza de Seguro de Automotores L...       610   \n",
       "3  page_19.txt  page_19.txt. Póliza de Seguro de Automotores L...       809   \n",
       "4  page_31.txt  page_31.txt. Póliza de Seguro de Automotores L...       727   \n",
       "\n",
       "                                          embeddings  \n",
       "0  [-0.018300291150808334, -0.0001406756200594827...  \n",
       "1  [0.002368899527937174, 0.0074475351721048355, ...  \n",
       "2  [-0.01696052774786949, 0.014104444533586502, 0...  \n",
       "3  [-0.00761449197307229, 0.007823941297829151, 0...  \n",
       "4  [-0.010724230669438839, 0.008463261649012566, ...  "
      ]
     },
     "execution_count": 17,
     "metadata": {},
     "output_type": "execute_result"
    }
   ],
   "source": [
    "from openai import OpenAI\n",
    "client = OpenAI()\n",
    "\n",
    "df['embeddings'] = df.text.apply(lambda x: client.embeddings.create(input=x, model='text-embedding-ada-002').data[0].embedding)\n",
    "df.to_csv('processed/embeddings.csv')\n",
    "df.head()"
   ]
  },
  {
   "cell_type": "code",
   "execution_count": 18,
   "metadata": {},
   "outputs": [],
   "source": [
    "from embeddings_utils import distances_from_embeddings\n",
    "\n",
    "def create_context(\n",
    "    question, df, max_len=1800, size=\"ada\"\n",
    "):\n",
    "    \"\"\"\n",
    "    Create a context for a question by finding the most similar context from the dataframe\n",
    "    \"\"\"\n",
    "\n",
    "    # Get the embeddings for the question\n",
    "    q_embeddings = client.embeddings.create(input=question, model='text-embedding-ada-002').data[0].embedding\n",
    "\n",
    "    # Get the distances from the embeddings\n",
    "    df['distances'] = distances_from_embeddings(q_embeddings, df['embeddings'].values, distance_metric='cosine')\n",
    "\n",
    "\n",
    "    returns = []\n",
    "    cur_len = 0\n",
    "\n",
    "    # Sort by distance and add the text to the context until the context is too long\n",
    "    for i, row in df.sort_values('distances', ascending=True).iterrows():\n",
    "        \n",
    "        # Add the length of the text to the current length\n",
    "        cur_len += row['n_tokens'] + 4\n",
    "        \n",
    "        # If the context is too long, break\n",
    "        if cur_len > max_len:\n",
    "            break\n",
    "        \n",
    "        # Else add it to the text that is being returned\n",
    "        returns.append(row[\"text\"])\n",
    "\n",
    "    # Return the context\n",
    "    return \"\\n\\n###\\n\\n\".join(returns)\n",
    "\n",
    "def answer_question(\n",
    "    df,\n",
    "    model=\"gpt-3.5-turbo\",\n",
    "    question=\"Am I allowed to publish model outputs to Twitter, without a human review?\",\n",
    "    max_len=3000,\n",
    "    size=\"ada\",\n",
    "    debug=False,\n",
    "    max_tokens=800,\n",
    "    stop_sequence=None\n",
    "):\n",
    "    \"\"\"\n",
    "    Answer a question based on the most similar context from the dataframe texts\n",
    "    \"\"\"\n",
    "    context = create_context(\n",
    "        question,\n",
    "        df,\n",
    "        max_len=max_len,\n",
    "        size=size,\n",
    "    )\n",
    "    # If debug, print the raw model response\n",
    "    if debug:\n",
    "        print(\"Context:\\n\" + context)\n",
    "        print(\"\\n\\n\")\n",
    "\n",
    "    try:\n",
    "        # Create a completions using the question and context\n",
    "\n",
    "        response = client.chat.completions.create(\n",
    "            model=model,\n",
    "            messages=[\n",
    "                {\"role\": \"system\", \"content\": f\"Eres un asistente que tiene que responder info basado en este contexto: {context}\"},\n",
    "                {\"role\": \"user\", \"content\": f\"{question}\"}\n",
    "            ],\n",
    "            max_tokens=max_tokens,\n",
    "            temperature=0,\n",
    "            top_p=1,\n",
    "            presence_penalty=0\n",
    "        )\n",
    "        return response.choices[0].message.content.strip()\n",
    "    except Exception as e:\n",
    "        print(e)\n",
    "        return \"\""
   ]
  },
  {
   "cell_type": "code",
   "execution_count": 19,
   "metadata": {},
   "outputs": [
    {
     "data": {
      "text/plain": [
       "'La cobertura frente a un accidente de tránsito varía según el tipo de daño o pérdida involucrada y está sujeta a las condiciones particulares de la póliza LBC-Auto MASIVOS. A continuación, se detallan algunos aspectos clave de la cobertura según la información proporcionada:\\n\\n1. **Daños Propios o Robo Parcial**: En caso de siniestros menores a USD 1.000 que afecten exclusivamente Daños Propios o Robo Parcial, el asegurado puede optar por no reportar el siniestro, pero la aseguradora solo cubrirá hasta USD 1.000 si el asegurado decide reportarlo.\\n\\n2. **Muerte e Invalidez Total y/o Parcial Permanente**: La póliza cubre la muerte y la invalidez total y/o parcial permanente de los ocupantes del vehículo asegurado en caso de accidente de tránsito, según las escalas y condiciones especificadas en la póliza. Además, incluye gastos de sepelio para los ocupantes fallecidos.\\n\\n3. **Daños Materiales**: La póliza indemnizará los daños materiales que sufra el vehículo como consecuencia de un accidente de tránsito, ya sea en circulación o estacionado, y será efectiva hasta el monto del costo estimado de la reparación del vehículo asegurado. La cobertura incluye, pero no se limita a, choques, embarrancamiento, vuelco, caída o impacto de objetos, entre otros.\\n\\n4. **Exclusiones Generales**: Hay ciertas situaciones en las que la póliza no ofrece cobertura, como daños causados cuando el vehículo es conducido bajo el efecto de alcohol por encima del límite permitido, daños causados por contaminación gradual, responsabilidad penal, multas, sanciones, entre otros.\\n\\nEs importante revisar las condiciones particulares de la póliza y las cláusulas específicas para entender completamente el alcance de la cobertura, las exclusiones, y los requisitos en caso de un accidente de tránsito.'"
      ]
     },
     "execution_count": 19,
     "metadata": {},
     "output_type": "execute_result"
    }
   ],
   "source": [
    "answer_question(df, model=\"gpt-4-turbo-preview\", max_len=5000, question=\"cuanto de cobertura se tiene frente a un accidente de transito?\", debug=False)"
   ]
  }
 ],
 "metadata": {
  "kernelspec": {
   "display_name": "ml-encora",
   "language": "python",
   "name": "python3"
  },
  "language_info": {
   "codemirror_mode": {
    "name": "ipython",
    "version": 3
   },
   "file_extension": ".py",
   "mimetype": "text/x-python",
   "name": "python",
   "nbconvert_exporter": "python",
   "pygments_lexer": "ipython3",
   "version": "3.11.5"
  }
 },
 "nbformat": 4,
 "nbformat_minor": 2
}
